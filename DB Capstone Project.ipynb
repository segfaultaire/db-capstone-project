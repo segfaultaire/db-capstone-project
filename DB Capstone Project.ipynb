{
 "cells": [
  {
   "cell_type": "markdown",
   "id": "f73df890-f7de-4141-aa99-4dcc993a3559",
   "metadata": {},
   "source": [
    "### Install what's necessary"
   ]
  },
  {
   "cell_type": "code",
   "execution_count": 9,
   "id": "b733cfbd-33c7-4f41-9322-4c2c71f4a027",
   "metadata": {},
   "outputs": [
    {
     "name": "stdout",
     "output_type": "stream",
     "text": [
      "Defaulting to user installation because normal site-packages is not writeable\n",
      "Requirement already satisfied: mysql-connector-python in /home/af/.local/lib/python3.10/site-packages (8.1.0)\n",
      "Requirement already satisfied: protobuf<=4.21.12,>=4.21.1 in /home/af/.local/lib/python3.10/site-packages (from mysql-connector-python) (4.21.12)\n"
     ]
    }
   ],
   "source": [
    "!pip install mysql-connector-python"
   ]
  },
  {
   "cell_type": "markdown",
   "id": "f21f6695-b92b-49bf-9e9d-978de0479df9",
   "metadata": {},
   "source": [
    "### Check the DB connection works as expected"
   ]
  },
  {
   "cell_type": "code",
   "execution_count": 4,
   "id": "8aa3dcbf-54ee-40a6-9b45-f497a8cdb1df",
   "metadata": {},
   "outputs": [],
   "source": [
    "import mysql.connector as connector"
   ]
  },
  {
   "cell_type": "code",
   "execution_count": 15,
   "id": "710cb4f3-1ebf-49d4-8860-1809f4b773dd",
   "metadata": {},
   "outputs": [],
   "source": [
    "connection = connector.connect(user = \"little_lemon\", password = \"temp 123\", db = 'LittleLemonDB')\n",
    "cursor = connection.cursor()"
   ]
  },
  {
   "cell_type": "markdown",
   "id": "862ea148-8d8d-4197-9418-435890bc2b98",
   "metadata": {},
   "source": [
    "### Check tables "
   ]
  },
  {
   "cell_type": "code",
   "execution_count": 17,
   "id": "b12b9202-a3e1-413c-a05c-fb00bcedb309",
   "metadata": {},
   "outputs": [
    {
     "name": "stdout",
     "output_type": "stream",
     "text": [
      "Bookings\n",
      "CustomerDetails\n",
      "MenuItems\n",
      "Menus\n",
      "OrderDeliveryStatus\n",
      "Orders\n",
      "Staff\n"
     ]
    }
   ],
   "source": [
    "show_tables_query = \"SHOW tables\" \n",
    "cursor.execute(show_tables_query)\n",
    "for row in cursor.fetchall():\n",
    "    print(row[0])"
   ]
  },
  {
   "cell_type": "markdown",
   "id": "8375578d-e78c-4006-bafb-358ec439d4d8",
   "metadata": {},
   "source": [
    "### Details about customers with at least one order priced about $60"
   ]
  },
  {
   "cell_type": "code",
   "execution_count": 25,
   "id": "f8207388-53df-478b-812f-58c41aacad09",
   "metadata": {},
   "outputs": [
    {
     "name": "stdout",
     "output_type": "stream",
     "text": [
      "Name                 PhoneNumber\n",
      "Anna Iversen         89798789\n",
      "Joakim Iversen       231313\n",
      "Hiroki Yamane        945652\n"
     ]
    }
   ],
   "source": [
    "select_query = \"\"\"\n",
    "select concat(FirstName, ' ', LastName) as Name, PhoneNumber\n",
    "from Orders\n",
    "inner join Bookings\n",
    "using (BookingID)\n",
    "inner join CustomerDetails\n",
    "using (CustomerID)\n",
    "where TotalCost > 60\n",
    "\"\"\"\n",
    "cursor.execute(select_query)\n",
    "cols = cursor.column_names\n",
    "print(cols[0].ljust(20), cols[1])\n",
    "\n",
    "for row in cursor.fetchall():\n",
    "    print(row[0].ljust(20), row[1])"
   ]
  },
  {
   "cell_type": "code",
   "execution_count": null,
   "id": "78d1933e-80d5-4883-830f-6c943496423c",
   "metadata": {},
   "outputs": [],
   "source": []
  }
 ],
 "metadata": {
  "kernelspec": {
   "display_name": "Python 3 (ipykernel)",
   "language": "python",
   "name": "python3"
  },
  "language_info": {
   "codemirror_mode": {
    "name": "ipython",
    "version": 3
   },
   "file_extension": ".py",
   "mimetype": "text/x-python",
   "name": "python",
   "nbconvert_exporter": "python",
   "pygments_lexer": "ipython3",
   "version": "3.10.12"
  }
 },
 "nbformat": 4,
 "nbformat_minor": 5
}
